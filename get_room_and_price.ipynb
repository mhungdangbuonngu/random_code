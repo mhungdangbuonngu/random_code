{
 "cells": [
  {
   "cell_type": "code",
   "execution_count": 2,
   "metadata": {},
   "outputs": [],
   "source": [
    "from bs4 import BeautifulSoup as bp\n",
    "import numpy as np\n",
    "import pandas as pd\n",
    "from selenium import webdriver\n",
    "from selenium.webdriver.chrome.options import Options\n",
    "\n",
    "import csv\n",
    "import time\n"
   ]
  },
  {
   "cell_type": "code",
   "execution_count": 5,
   "metadata": {},
   "outputs": [],
   "source": [
    "USER_AGENT='Mozilla/5.0 (Windows NT 10.0; Win64; x64) AppleWebKit/537.36 (KHTML, like Gecko) Chrome/127.0.0.0 Safari/537.36'\n",
    "REQUEST_HEADER = {\n",
    "    'User-Agent': USER_AGENT,\n",
    "    'Accept-language': 'en-US, en;q=0.5',\n",
    "}"
   ]
  },
  {
   "cell_type": "code",
   "execution_count": 4,
   "metadata": {},
   "outputs": [],
   "source": [
    "options=Options()\n",
    "options.add_argument(f\"user-agent={USER_AGENT}\")\n",
    "driver=webdriver.Chrome(options=options)"
   ]
  },
  {
   "cell_type": "code",
   "execution_count": 22,
   "metadata": {},
   "outputs": [],
   "source": [
    "def get_room_price(soup):\n",
    "    #prices={}\n",
    "    #price= soup.find('div',class_='css-901oao r-a5wbuh r-b88u0q r-135wba7 r-1ff274t')\n",
    "    #prices['base_price']=price\n",
    "    list=soup.find('div',attrs={'data-testid': 'room-list-tray','class':'css-1dbjc4n r-1oszu61 r-eqz5dr'})\n",
    "    rooms=list.findAll('div',class_='css-1dbjc4n r-14lw9ot r-1dzdj1l r-xy67v1 r-6gpygo r-1l7z4oj r-ymttw5')\n",
    "    room_data=[]\n",
    "    for room in rooms:\n",
    "        room_info={}\n",
    "        name=room.find('h3',class_='css-4rbku5 css-901oao css-bfa6kz r-cwxd7f r-a5wbuh r-b88u0q r-135wba7 r-fdjqy7',attrs={'role':'heading'})\n",
    "        room_info['name']=name.text.strip() if name else 'N/a'\n",
    "        count=0\n",
    "        img_box=room.find('div',class_='css-1dbjc4n r-9cy4zw r-h1746q r-1mdj7ya r-15ik8dz r-youum4 r-1l7z4oj r-1e081e0 r-fd4yh7 r-136ojw6')\n",
    "        dump=img_box.find('svg',attrs={'data-id':'IcUserAccountFill'})\n",
    "        capa= dump.find_next_sibling('div',class_='css-901oao r-1ud240a r-a5wbuh r-1enofrn r-majxgm r-1cwl3u0 r-fdjqy7')\n",
    "        if capa:\n",
    "            div_capa=capa.get_text().strip().replace('x','')\n",
    "            room_info['capacity']=div_capa    \n",
    "        else:\n",
    "            people=img_box.findAll('svg',attrs={'data-id':'IcUserAccountFill'})\n",
    "            for svg in people:\n",
    "                count +=1\n",
    "            room_info['capacity']=count\n",
    "\n",
    "        price_list = []\n",
    "        price_elements = room.findAll('div', class_='css-901oao r-1loqt21 r-a5wbuh r-ubezar r-b88u0q r-135wba7 r-1ff274t')\n",
    "        for price_element in price_elements:\n",
    "            #take string\n",
    "            price_text = price_element.get_text().strip()\n",
    "            #convert to INT\n",
    "            price_int=int(price_text.replace('VND','').replace('.',''))\n",
    "            price_list.append(price_int)\n",
    "            \n",
    "        room_info['price'] = price_list\n",
    "\n",
    "        room_data.append(room_info)\n",
    "    return room_data\n",
    "\n"
   ]
  },
  {
   "cell_type": "code",
   "execution_count": null,
   "metadata": {},
   "outputs": [],
   "source": [
    "if __name__ ==\"__main__\":\n",
    "    data=[]\n",
    "    with open('hotels.csv',newline='',encoding='utf-8') as csvfile:\n",
    "        reader = csv.reader(csvfile, delimiter=',')\n",
    "        i=0\n",
    "        for row in reader:\n",
    "            url=row[0]\n",
    "            file_name = \"room_price.txt\"\n",
    "            driver.get(url)\n",
    "            time.sleep(15)\n",
    "            soup=bp(driver.page_source,'lxml')\n",
    "            data.append(get_room_price(soup))\n",
    "            with open(file_name, 'w', encoding='utf-8') as file:\n",
    "                file.write(str(data))"
   ]
  }
 ],
 "metadata": {
  "kernelspec": {
   "display_name": "Python 3",
   "language": "python",
   "name": "python3"
  },
  "language_info": {
   "codemirror_mode": {
    "name": "ipython",
    "version": 3
   },
   "file_extension": ".py",
   "mimetype": "text/x-python",
   "name": "python",
   "nbconvert_exporter": "python",
   "pygments_lexer": "ipython3",
   "version": "3.11.9"
  }
 },
 "nbformat": 4,
 "nbformat_minor": 2
}
