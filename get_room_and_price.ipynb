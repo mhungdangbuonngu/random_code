{
 "cells": [
  {
   "cell_type": "code",
   "execution_count": 21,
   "metadata": {},
   "outputs": [],
   "source": [
    "from bs4 import BeautifulSoup as bp\n",
    "import numpy as np\n",
    "import pandas as pd\n",
    "from selenium import webdriver\n",
    "from selenium.webdriver.chrome.options import Options\n",
    "import psycopg2\n",
    "import csv\n",
    "import time\n"
   ]
  },
  {
   "cell_type": "code",
   "execution_count": 22,
   "metadata": {},
   "outputs": [],
   "source": [
    "import getpass\n",
    "import os\n",
    "\n",
    "postgres_url = getpass.getpass(\"Enter your postgresql url: \")"
   ]
  },
  {
   "cell_type": "code",
   "execution_count": 23,
   "metadata": {},
   "outputs": [],
   "source": [
    "USER_AGENT='Mozilla/5.0 (Windows NT 10.0; Win64; x64) AppleWebKit/537.36 (KHTML, like Gecko) Chrome/127.0.0.0 Safari/537.36'\n",
    "REQUEST_HEADER = {\n",
    "    'User-Agent': USER_AGENT,\n",
    "    'Accept-language': 'en-US, en;q=0.5',\n",
    "}"
   ]
  },
  {
   "cell_type": "code",
   "execution_count": 24,
   "metadata": {},
   "outputs": [],
   "source": [
    "options=Options()\n",
    "options.add_argument(f\"user-agent={USER_AGENT}\")\n",
    "driver=webdriver.Chrome(options=options)"
   ]
  },
  {
   "cell_type": "code",
   "execution_count": 31,
   "metadata": {},
   "outputs": [],
   "source": [
    "def get_hotel_id(soup):\n",
    "    h_name=soup.find('h1',class_='css-4rbku5 css-901oao css-cens5h r-cwxd7f r-a5wbuh r-1x35g6 r-b88u0q r-fdjqy7')\n",
    "    h_name=h_name.text.strip()\n",
    "    query=\"\"\"\n",
    "        SELECT hotel_id\n",
    "        FROM hotel\n",
    "        WHERE name ILIKE %s;\"\"\"\n",
    "    conn = psycopg2.connect(postgres_url)\n",
    "    cur = conn.cursor()\n",
    "    cur.execute(\"\"\"SET search_path TO travel_database, public;\"\"\")\n",
    "    cur.execute(query,(h_name,))\n",
    "    hotel_id=cur.fetchone()\n",
    "    cur.close()\n",
    "    return hotel_id"
   ]
  },
  {
   "cell_type": "code",
   "execution_count": null,
   "metadata": {},
   "outputs": [],
   "source": [
    "def insert_db(hotel_id,name,capacity,price):\n",
    "    conn = psycopg2.connect(postgres_url)\n",
    "    cur = conn.cursor()\n",
    "    cur.execute(\"\"\"SET search_path TO travel_database, public;\"\"\")\n",
    "    query=\"\"\"INSERT INTO hotelprice (hotel_id, room_type, capacity, price)\n",
    "    VALUES (%s, %s, %s, %s);\"\"\"\n",
    "    hotel_id = hotel_id\n",
    "    room_type = name\n",
    "    capacity = capacity\n",
    "    price = price\n",
    "    cur.execute(query, (hotel_id, room_type, capacity, price))\n",
    "    conn.commit()\n",
    "    cur.close()\n",
    "    conn.close()"
   ]
  },
  {
   "cell_type": "code",
   "execution_count": 26,
   "metadata": {},
   "outputs": [],
   "source": [
    "def get_room_price(soup):\n",
    "    #prices={}\n",
    "    #price= soup.find('div',class_='css-901oao r-a5wbuh r-b88u0q r-135wba7 r-1ff274t')\n",
    "    #prices['base_price']=price\n",
    "    list=soup.find('div',attrs={'data-testid': 'room-list-tray','class':'css-1dbjc4n r-1oszu61 r-eqz5dr'})\n",
    "    rooms=list.findAll('div',class_='css-1dbjc4n r-14lw9ot r-1dzdj1l r-xy67v1 r-6gpygo r-1l7z4oj r-ymttw5')\n",
    "    room_data={}\n",
    "    for room in rooms:\n",
    "        name=room.find('h3',class_='css-4rbku5 css-901oao css-bfa6kz r-cwxd7f r-a5wbuh r-b88u0q r-135wba7 r-fdjqy7',attrs={'role':'heading'})\n",
    "        name=name.text.strip() if name else 'N/a'\n",
    "        #room_data['name']\n",
    "        price_list = []\n",
    "        price_elements = room.find('div', class_='css-901oao r-1loqt21 r-a5wbuh r-ubezar r-b88u0q r-135wba7 r-1ff274t')\n",
    "        for price_element in price_elements:\n",
    "            #take string\n",
    "            price_text = price_element.get_text().strip()\n",
    "            #convert to INT\n",
    "            price_int=int(price_text.replace('VND','').replace('.',''))\n",
    "            #price_list.append(price_int)\n",
    "            \n",
    "        #room_data['price'] = price_list\n",
    "\n",
    "        hotel_id=get_hotel_id(soup)\n",
    "        count=0\n",
    "        img_box=room.find('div',class_='css-1dbjc4n r-9cy4zw r-h1746q r-1mdj7ya r-15ik8dz r-youum4 r-1l7z4oj r-1e081e0 r-fd4yh7 r-136ojw6')\n",
    "        dump=img_box.find('svg',attrs={'data-id':'IcUserAccountFill'})\n",
    "        capa= dump.find_next_sibling('div',class_='css-901oao r-1ud240a r-a5wbuh r-1enofrn r-majxgm r-1cwl3u0 r-fdjqy7')\n",
    "        if capa:\n",
    "            div_capa=capa.get_text().strip().replace('x','')\n",
    "            #room_data['capacity']=div_capa \n",
    "            insert_db(hotel_id,name,div_capa,price_int)  \n",
    "        else:\n",
    "            people=img_box.findAll('svg',attrs={'data-id':'IcUserAccountFill'})\n",
    "            for svg in people:\n",
    "                count +=1\n",
    "            #room_data['capacity']=count\n",
    "            insert_db(hotel_id,name,count,price_int) \n",
    "    return room_data\n",
    "\n"
   ]
  },
  {
   "cell_type": "code",
   "execution_count": 27,
   "metadata": {},
   "outputs": [],
   "source": []
  },
  {
   "cell_type": "code",
   "execution_count": 32,
   "metadata": {},
   "outputs": [
    {
     "ename": "UndefinedColumn",
     "evalue": "column \"h_name\" does not exist\nLINE 4:         WHERE name ILIKE h_name;\n                                 ^\nHINT:  Perhaps you meant to reference the column \"hotel.name\".\n",
     "output_type": "error",
     "traceback": [
      "\u001b[1;31m---------------------------------------------------------------------------\u001b[0m",
      "\u001b[1;31mUndefinedColumn\u001b[0m                           Traceback (most recent call last)",
      "Cell \u001b[1;32mIn[32], line 12\u001b[0m\n\u001b[0;32m     10\u001b[0m  time\u001b[38;5;241m.\u001b[39msleep(\u001b[38;5;241m15\u001b[39m)\n\u001b[0;32m     11\u001b[0m  soup\u001b[38;5;241m=\u001b[39mbp(driver\u001b[38;5;241m.\u001b[39mpage_source,\u001b[38;5;124m'\u001b[39m\u001b[38;5;124mlxml\u001b[39m\u001b[38;5;124m'\u001b[39m)\n\u001b[1;32m---> 12\u001b[0m  room_info\u001b[38;5;241m=\u001b[39m\u001b[43mget_room_price\u001b[49m\u001b[43m(\u001b[49m\u001b[43msoup\u001b[49m\u001b[43m)\u001b[49m\n\u001b[0;32m     13\u001b[0m  insert_db(room_info)\n\u001b[0;32m     14\u001b[0m \u001b[38;5;66;03m# with open(file_name, 'w', encoding='utf-8') as file:\u001b[39;00m\n\u001b[0;32m     15\u001b[0m   \u001b[38;5;66;03m#   file.write(str(data))\u001b[39;00m\n",
      "Cell \u001b[1;32mIn[26], line 35\u001b[0m, in \u001b[0;36mget_room_price\u001b[1;34m(soup)\u001b[0m\n\u001b[0;32m     31\u001b[0m         price_list\u001b[38;5;241m.\u001b[39mappend(price_int)\n\u001b[0;32m     33\u001b[0m     room_data[\u001b[38;5;124m'\u001b[39m\u001b[38;5;124mprice\u001b[39m\u001b[38;5;124m'\u001b[39m] \u001b[38;5;241m=\u001b[39m price_list\n\u001b[1;32m---> 35\u001b[0m     room_data[\u001b[38;5;124m'\u001b[39m\u001b[38;5;124mhotel_id\u001b[39m\u001b[38;5;124m'\u001b[39m]\u001b[38;5;241m=\u001b[39m\u001b[43mget_hotel_id\u001b[49m\u001b[43m(\u001b[49m\u001b[43msoup\u001b[49m\u001b[43m)\u001b[49m\n\u001b[0;32m     37\u001b[0m \u001b[38;5;28;01mreturn\u001b[39;00m room_data\n",
      "Cell \u001b[1;32mIn[31], line 10\u001b[0m, in \u001b[0;36mget_hotel_id\u001b[1;34m(soup)\u001b[0m\n\u001b[0;32m      8\u001b[0m cur \u001b[38;5;241m=\u001b[39m conn\u001b[38;5;241m.\u001b[39mcursor()\n\u001b[0;32m      9\u001b[0m cur\u001b[38;5;241m.\u001b[39mexecute(\u001b[38;5;124m\"\"\"\u001b[39m\u001b[38;5;124mSET search_path TO travel_database, public;\u001b[39m\u001b[38;5;124m\"\"\"\u001b[39m)\n\u001b[1;32m---> 10\u001b[0m \u001b[43mcur\u001b[49m\u001b[38;5;241;43m.\u001b[39;49m\u001b[43mexecute\u001b[49m\u001b[43m(\u001b[49m\u001b[43mquery\u001b[49m\u001b[43m,\u001b[49m\u001b[43m(\u001b[49m\u001b[43mh_name\u001b[49m\u001b[43m)\u001b[49m\u001b[43m)\u001b[49m\n\u001b[0;32m     11\u001b[0m hotel_id\u001b[38;5;241m=\u001b[39mcur\u001b[38;5;241m.\u001b[39mfetchone()\n\u001b[0;32m     12\u001b[0m cur\u001b[38;5;241m.\u001b[39mclose()\n",
      "\u001b[1;31mUndefinedColumn\u001b[0m: column \"h_name\" does not exist\nLINE 4:         WHERE name ILIKE h_name;\n                                 ^\nHINT:  Perhaps you meant to reference the column \"hotel.name\".\n"
     ]
    }
   ],
   "source": [
    "if __name__ ==\"__main__\":\n",
    "    data=[]\n",
    "    with open('hotels.csv',newline='',encoding='utf-8') as csvfile:\n",
    "        reader = csv.reader(csvfile, delimiter=',')\n",
    "        i=0\n",
    "        for row in reader:\n",
    "            url=row[0]\n",
    "            #file_name = \"room_price.txt\"\n",
    "            driver.get(url)\n",
    "            time.sleep(10)\n",
    "            soup=bp(driver.page_source,'lxml')\n",
    "            get_room_price(soup)\n",
    "           # with open(file_name, 'w', encoding='utf-8') as file:\n",
    "             #   file.write(str(data))"
   ]
  },
  {
   "cell_type": "code",
   "execution_count": null,
   "metadata": {},
   "outputs": [],
   "source": []
  }
 ],
 "metadata": {
  "kernelspec": {
   "display_name": "Python 3",
   "language": "python",
   "name": "python3"
  },
  "language_info": {
   "codemirror_mode": {
    "name": "ipython",
    "version": 3
   },
   "file_extension": ".py",
   "mimetype": "text/x-python",
   "name": "python",
   "nbconvert_exporter": "python",
   "pygments_lexer": "ipython3",
   "version": "3.11.9"
  }
 },
 "nbformat": 4,
 "nbformat_minor": 2
}
