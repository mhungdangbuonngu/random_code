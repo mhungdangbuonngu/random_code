{
 "cells": [
  {
   "cell_type": "code",
   "execution_count": 38,
   "metadata": {},
   "outputs": [],
   "source": [
    "import psycopg2\n",
    "import json\n",
    "import requests\n",
    "from bs4 import BeautifulSoup as bp\n",
    "import csv\n",
    "from datetime import datetime\n",
    "import time\n",
    "from selenium import webdriver\n",
    "import re\n",
    "from geopy.geocoders import Nominatim\n",
    "import os"
   ]
  },
  {
   "cell_type": "code",
   "execution_count": 39,
   "metadata": {},
   "outputs": [],
   "source": [
    "!pip install -q langchain\n",
    "!pip install -q langchain_community\n",
    "!pip install -q langchain-ollama"
   ]
  },
  {
   "cell_type": "code",
   "execution_count": 40,
   "metadata": {},
   "outputs": [
    {
     "name": "stdout",
     "output_type": "stream",
     "text": [
      "Requirement already satisfied: geopy in c:\\users\\pc\\appdata\\local\\packages\\pythonsoftwarefoundation.python.3.11_qbz5n2kfra8p0\\localcache\\local-packages\\python311\\site-packages (2.4.1)\n",
      "Requirement already satisfied: geographiclib<3,>=1.52 in c:\\users\\pc\\appdata\\local\\packages\\pythonsoftwarefoundation.python.3.11_qbz5n2kfra8p0\\localcache\\local-packages\\python311\\site-packages (from geopy) (2.0)\n"
     ]
    }
   ],
   "source": [
    "!pip install geopy"
   ]
  },
  {
   "cell_type": "code",
   "execution_count": 41,
   "metadata": {},
   "outputs": [],
   "source": [
    "!pip install -qU langchain-google-genai"
   ]
  },
  {
   "cell_type": "code",
   "execution_count": null,
   "metadata": {},
   "outputs": [],
   "source": []
  },
  {
   "cell_type": "code",
   "execution_count": null,
   "metadata": {},
   "outputs": [],
   "source": []
  },
  {
   "cell_type": "code",
   "execution_count": null,
   "metadata": {},
   "outputs": [],
   "source": []
  },
  {
   "cell_type": "code",
   "execution_count": 42,
   "metadata": {},
   "outputs": [],
   "source": [
    "from langchain_community.chat_models import ChatOllama\n",
    "llm = ChatOllama(model=\"llama3:latest\", temperature=0)"
   ]
  },
  {
   "cell_type": "code",
   "execution_count": 43,
   "metadata": {},
   "outputs": [],
   "source": [
    "USER_AGENT='Mozilla/5.0 (Windows NT 10.0; Win64; x64) AppleWebKit/537.36 (KHTML, like Gecko) Chrome/127.0.0.0 Safari/537.36'\n",
    "REQUEST_HEADER = {\n",
    "    'User-Agent': USER_AGENT,\n",
    "    'Accept-language': 'en-US, en;q=0.5',\n",
    "}\n",
    "def get_page_html(url):\n",
    "    res= requests.get(url=url,headers= REQUEST_HEADER)\n",
    "    return res.text\n",
    "\n",
    "\n",
    "def get_hotel_price(soup):\n",
    "    price_element=soup.find('div', attrs={'style':'color: rgb(255, 94, 31); font-size: 20px;'})\n",
    "    if price_element:\n",
    "        true_price = price_element.text.strip().replace('VND', '').replace('.', '')\n",
    "        return float(true_price)\n",
    "    return None    \n",
    "            \n",
    "def get_hotel_name(soup):\n",
    "    name=soup.find('div',class_='css-901oao r-a5wbuh r-1enofrn r-b88u0q r-1cwl3u0 r-fdjqy7 r-3s2u2q')\n",
    "    return name.text.strip() if name else None\n",
    "\n",
    "\n",
    "def get_hotel_rating(soup):\n",
    "    rating=soup.find('div',class_ = 'css-901oao r-jwli3a r-a5wbuh r-s67bdx r-b88u0q r-10cxs7j r-q4m81j')\n",
    "    return rating.text.strip() if rating else None\n",
    "\n",
    "\n",
    "def get_hotel_des(soup):\n",
    "    des=soup.find('div',attrs={'style':'font-family:Godwit, -apple-system, BlinkMacSystemFont, Segoe UI, Roboto, Arial, sans-serif, Apple Color Emoji, Segoe UI Emoji, Segoe UI Symbol;font-size:14px;line-height:20px;max-height:80px;overflow:hidden'})\n",
    "    return des.text.strip().replace('\\n','') if des else None\n",
    "\n",
    "def get_hotel_location(soup):\n",
    "    location=soup.find('div',class_='css-901oao css-cens5h r-13awgt0 r-a5wbuh r-1b43r93 r-majxgm r-rjixqe r-fdjqy7')\n",
    "    return location.text.strip().replace('\\t','') if location else None\n",
    "\n",
    "\n",
    "def get_hotel_comments(soup):\n",
    "    comments=[]\n",
    "    a = soup.findAll('div',class_='css-901oao css-cens5h r-cwxd7f r-a5wbuh r-1b43r93 r-majxgm r-rjixqe r-fdjqy7')\n",
    "    for comment in a:\n",
    "        comments.append(comment.text.strip())\n",
    "    return json.dumps(comments)\n",
    "def get_hotel_img_url(soup):\n",
    "    div=soup.find('div', class_='css-1dbjc4n r-j9b53g r-1i97xy8 r-1ta3fxp r-18u37iz r-1z0tv5g r-1udh08x')\n",
    "    if div:\n",
    "        img_tag=div.findAll('img')\n",
    "        img_url=[img['src'] for img in img_tag]\n",
    "        return json.dumps(img_url)\n",
    "    else:\n",
    "        return None"
   ]
  },
  {
   "cell_type": "code",
   "execution_count": 44,
   "metadata": {},
   "outputs": [],
   "source": [
    "def insert_hotel_data(conn, info):\n",
    "    cur = conn.cursor()\n",
    "    try:\n",
    "        cur.execute(\"\"\"\n",
    "            INSERT INTO travel_database.hotel(name, rating, description, img_url, comments)\n",
    "            VALUES (%s, %s, %s, %s, %s)\n",
    "            \n",
    "        \"\"\", (\n",
    "            info['name'],\n",
    "            info['rating'],\n",
    "            info['description'],\n",
    "            info.get('img_url', None),\n",
    "            info['comments']\n",
    "        ))\n",
    "\n",
    "        #hotel_id = cur.fetchone()[0]\n",
    "\n",
    "        #if 'price' in info:\n",
    "            #cur.execute(\"\"\"\n",
    "             #   INSERT INTO places.hotel_price_range (hotel_id, room_type, occupancy, price)\n",
    "            #    VALUES (%s, %s, %s, %s)\n",
    "            #\"\"\", (\n",
    "             #   hotel_id,\n",
    "             #   info.get('room_type', None),\n",
    "            #    info.get('occupancy', None),\n",
    "             #   info['price']\n",
    "           # ))\n",
    "\n",
    "        conn.commit()\n",
    "    except Exception as e:\n",
    "        print(f\"Error inserting data: {e}\")\n",
    "        conn.rollback()\n",
    "    finally:\n",
    "        cur.close()"
   ]
  },
  {
   "cell_type": "code",
   "execution_count": 45,
   "metadata": {},
   "outputs": [],
   "source": [
    "def extract_hotels_info(url):\n",
    "    info = {}\n",
    "    html = get_page_html(url)\n",
    "    soup = bp(html, 'lxml')\n",
    "    info['name'] = get_hotel_name(soup)\n",
    "    info['price'] = get_hotel_price(soup)\n",
    "    info['rating'] = get_hotel_rating(soup)\n",
    "    #info['address'] = get_hotel_address(soup)\n",
    "    #info['location'] = get_hotel_location(info['address'])\n",
    "    info['description'] = get_hotel_des(soup)\n",
    "    info['comments'] = get_hotel_comments(soup)\n",
    "    info['img_url']=get_hotel_img_url(soup)\n",
    "    return info"
   ]
  },
  {
   "cell_type": "code",
   "execution_count": 46,
   "metadata": {},
   "outputs": [],
   "source": [
    "conn = psycopg2.connect(\n",
    "        user=\"postgres\",\n",
    "        password=\"hungdz2004\",\n",
    "        host=\"localhost\",\n",
    "        port=\"5432\",\n",
    "        database=\"postgres\"\n",
    ")"
   ]
  },
  {
   "cell_type": "code",
   "execution_count": 47,
   "metadata": {},
   "outputs": [],
   "source": [
    "data=[]\n",
    "with open('hotels.csv', newline='', encoding='utf-8') as csvfile:\n",
    "    reader = csv.reader(csvfile, delimiter=',')\n",
    "    for row in reader:\n",
    "        url = row[0]\n",
    "        data = extract_hotels_info(url)\n",
    "        insert_hotel_data(conn, data)\n",
    "        time.sleep(0.25)\n",
    "    "
   ]
  },
  {
   "cell_type": "code",
   "execution_count": null,
   "metadata": {},
   "outputs": [],
   "source": []
  },
  {
   "cell_type": "code",
   "execution_count": null,
   "metadata": {},
   "outputs": [],
   "source": []
  },
  {
   "cell_type": "code",
   "execution_count": null,
   "metadata": {},
   "outputs": [],
   "source": []
  },
  {
   "cell_type": "code",
   "execution_count": null,
   "metadata": {},
   "outputs": [],
   "source": []
  }
 ],
 "metadata": {
  "kernelspec": {
   "display_name": "Python 3",
   "language": "python",
   "name": "python3"
  },
  "language_info": {
   "codemirror_mode": {
    "name": "ipython",
    "version": 3
   },
   "file_extension": ".py",
   "mimetype": "text/x-python",
   "name": "python",
   "nbconvert_exporter": "python",
   "pygments_lexer": "ipython3",
   "version": "3.11.9"
  }
 },
 "nbformat": 4,
 "nbformat_minor": 2
}
