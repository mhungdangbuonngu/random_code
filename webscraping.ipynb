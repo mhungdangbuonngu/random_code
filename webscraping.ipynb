{
 "cells": [
  {
   "cell_type": "code",
   "execution_count": 18,
   "metadata": {},
   "outputs": [],
   "source": [
    "from datetime import date\n",
    "from selenium import webdriver\n",
    "#from selenium.webdriver.common.keys import Keys\n",
    "#from selenium.webdriver.common.by import By\n",
    "from datetime import date\n",
    "driver = webdriver.Chrome()\n",
    "driver.get('https://www.traveloka.com/en-vn/hotel/search?spec=14-08-2024.15-08-2024.1.1.HOTEL_GEO.10009843.Hanoi.2')"
   ]
  },
  {
   "cell_type": "markdown",
   "metadata": {},
   "source": [
    "#scraping the data(name of the hotel)"
   ]
  },
  {
   "cell_type": "code",
   "execution_count": 19,
   "metadata": {},
   "outputs": [],
   "source": [
    "from bs4 import BeautifulSoup as bp"
   ]
  },
  {
   "cell_type": "code",
   "execution_count": 20,
   "metadata": {},
   "outputs": [],
   "source": [
    "from function import *"
   ]
  },
  {
   "cell_type": "code",
   "execution_count": 22,
   "metadata": {},
   "outputs": [
    {
     "name": "stdout",
     "output_type": "stream",
     "text": [
      "14-08-2024\n",
      "15-08-2024\n",
      "16-08-2024\n",
      "17-08-2024\n",
      "18-08-2024\n",
      "19-08-2024\n",
      "20-08-2024\n",
      "21-08-2024\n",
      "22-08-2024\n",
      "23-08-2024\n",
      "24-08-2024\n",
      "25-08-2024\n",
      "26-08-2024\n",
      "27-08-2024\n",
      "28-08-2024\n",
      "29-08-2024\n",
      "30-08-2024\n",
      "31-08-2024\n",
      "01-09-2024\n",
      "02-09-2024\n",
      "03-09-2024\n",
      "04-09-2024\n",
      "05-09-2024\n",
      "06-09-2024\n",
      "07-09-2024\n",
      "08-09-2024\n",
      "09-09-2024\n",
      "10-09-2024\n",
      "11-09-2024\n",
      "12-09-2024\n"
     ]
    }
   ],
   "source": [
    "import time\n",
    "from datetime import timedelta, datetime\n",
    "\n",
    "\n",
    "page_url = driver.current_url\n",
    "url_prefix = page_url[:page_url.index(\"spec=\") + len(\"spec=\")]\n",
    "url_postfix = page_url[page_url.index(\".1.1.HOTEL_GEO\"):]\n",
    "check_in_date, check_out_date = page_url[len(url_prefix):page_url.index(url_postfix)].split(\".\")\n",
    "\n",
    "hotel_data = []\n",
    "\n",
    "\n",
    "soup = bp(driver.page_source, \"html.parser\")\n",
    "hotels = soup.find_all(\"h3\", class_ = \"css-4rbku5 css-901oao css-bfa6kz r-t1w4ow r-ubezar r-b88u0q r-rjixqe r-fdjqy7\")\n",
    "prices = soup.find_all(\"div\", class_ = \"css-901oao r-t1w4ow r-adyw6z r-b88u0q r-135wba7 r-1ff274t\")\n",
    "prices = reformat_price(prices)\n",
    "ratings, reviewers = define_hotel_rating_and_reviewers(hotels)\n",
    "    \n",
    "for index in range(len(hotels)):\n",
    "    hotel_data.append([hotels[index].string, prices[index], ratings[index], reviewers[index]])"
   ]
  },
  {
   "cell_type": "code",
   "execution_count": 23,
   "metadata": {},
   "outputs": [],
   "source": [
    "import pandas as pd\n",
    "\n",
    "# Convert the nested data to a DataFrame\n",
    "hotel = pd.DataFrame(hotel_data, columns = [\"Name\", \"Price\", \"Rating\", \"Reviewer\"])\n",
    "\n",
    "# hotel.set_index([\"Check-In Date\", \"Name\"], inplace = True)\n",
    "\n",
    "# Save the DataFrame to an Excel file\n",
    "hotel.to_excel(\"E:/GitHub/random_code_4_gp/hotel_data.xlsx\")"
   ]
  },
  {
   "cell_type": "code",
   "execution_count": 24,
   "metadata": {},
   "outputs": [
    {
     "data": {
      "text/html": [
       "<div>\n",
       "<style scoped>\n",
       "    .dataframe tbody tr th:only-of-type {\n",
       "        vertical-align: middle;\n",
       "    }\n",
       "\n",
       "    .dataframe tbody tr th {\n",
       "        vertical-align: top;\n",
       "    }\n",
       "\n",
       "    .dataframe thead th {\n",
       "        text-align: right;\n",
       "    }\n",
       "</style>\n",
       "<table border=\"1\" class=\"dataframe\">\n",
       "  <thead>\n",
       "    <tr style=\"text-align: right;\">\n",
       "      <th></th>\n",
       "      <th>Name</th>\n",
       "      <th>Price</th>\n",
       "      <th>Rating</th>\n",
       "      <th>Reviewer</th>\n",
       "    </tr>\n",
       "  </thead>\n",
       "  <tbody>\n",
       "  </tbody>\n",
       "</table>\n",
       "</div>"
      ],
      "text/plain": [
       "Empty DataFrame\n",
       "Columns: [Name, Price, Rating, Reviewer]\n",
       "Index: []"
      ]
     },
     "execution_count": 24,
     "metadata": {},
     "output_type": "execute_result"
    }
   ],
   "source": [
    "hotel"
   ]
  },
  {
   "cell_type": "code",
   "execution_count": 25,
   "metadata": {},
   "outputs": [
    {
     "ename": "NoSuchWindowException",
     "evalue": "Message: no such window: target window already closed\nfrom unknown error: web view not found\n  (Session info: chrome=127.0.6533.119)\nStacktrace:\n\tGetHandleVerifier [0x00007FF7710A9642+30946]\n\t(No symbol) [0x00007FF77105E3D9]\n\t(No symbol) [0x00007FF770F56FDA]\n\t(No symbol) [0x00007FF770F2CB85]\n\t(No symbol) [0x00007FF770FD37A7]\n\t(No symbol) [0x00007FF770FEA771]\n\t(No symbol) [0x00007FF770FCC813]\n\t(No symbol) [0x00007FF770F9A6E5]\n\t(No symbol) [0x00007FF770F9B021]\n\tGetHandleVerifier [0x00007FF7711DF84D+1301229]\n\tGetHandleVerifier [0x00007FF7711EBDC7+1351783]\n\tGetHandleVerifier [0x00007FF7711E2A13+1313971]\n\tGetHandleVerifier [0x00007FF7710DDD16+245686]\n\t(No symbol) [0x00007FF77106759F]\n\t(No symbol) [0x00007FF771063814]\n\t(No symbol) [0x00007FF7710639A2]\n\t(No symbol) [0x00007FF77105A3FF]\n\tBaseThreadInitThunk [0x00007FFBFEE1257D+29]\n\tRtlUserThreadStart [0x00007FFBFFD6AF28+40]\n",
     "output_type": "error",
     "traceback": [
      "\u001b[1;31m---------------------------------------------------------------------------\u001b[0m",
      "\u001b[1;31mNoSuchWindowException\u001b[0m                     Traceback (most recent call last)",
      "Cell \u001b[1;32mIn[25], line 7\u001b[0m\n\u001b[0;32m      5\u001b[0m \u001b[38;5;66;03m# Mở file để ghi (sẽ tạo file nếu chưa tồn tại)\u001b[39;00m\n\u001b[0;32m      6\u001b[0m \u001b[38;5;28;01mwith\u001b[39;00m \u001b[38;5;28mopen\u001b[39m(file_name, \u001b[38;5;124m\"\u001b[39m\u001b[38;5;124mw\u001b[39m\u001b[38;5;124m\"\u001b[39m, encoding\u001b[38;5;241m=\u001b[39m\u001b[38;5;124m\"\u001b[39m\u001b[38;5;124mutf-8\u001b[39m\u001b[38;5;124m\"\u001b[39m) \u001b[38;5;28;01mas\u001b[39;00m file:\n\u001b[1;32m----> 7\u001b[0m     file\u001b[38;5;241m.\u001b[39mwrite(\u001b[43mdriver\u001b[49m\u001b[38;5;241;43m.\u001b[39;49m\u001b[43mpage_source\u001b[49m)\n\u001b[0;32m      9\u001b[0m \u001b[38;5;28mprint\u001b[39m(\u001b[38;5;124mf\u001b[39m\u001b[38;5;124m\"\u001b[39m\u001b[38;5;124mFile đã được lưu thành công tại \u001b[39m\u001b[38;5;132;01m{\u001b[39;00mfile_name\u001b[38;5;132;01m}\u001b[39;00m\u001b[38;5;124m\"\u001b[39m)\n",
      "File \u001b[1;32m~\\AppData\\Local\\Packages\\PythonSoftwareFoundation.Python.3.11_qbz5n2kfra8p0\\LocalCache\\local-packages\\Python311\\site-packages\\selenium\\webdriver\\remote\\webdriver.py:455\u001b[0m, in \u001b[0;36mWebDriver.page_source\u001b[1;34m(self)\u001b[0m\n\u001b[0;32m    446\u001b[0m \u001b[38;5;129m@property\u001b[39m\n\u001b[0;32m    447\u001b[0m \u001b[38;5;28;01mdef\u001b[39;00m \u001b[38;5;21mpage_source\u001b[39m(\u001b[38;5;28mself\u001b[39m) \u001b[38;5;241m-\u001b[39m\u001b[38;5;241m>\u001b[39m \u001b[38;5;28mstr\u001b[39m:\n\u001b[0;32m    448\u001b[0m \u001b[38;5;250m    \u001b[39m\u001b[38;5;124;03m\"\"\"Gets the source of the current page.\u001b[39;00m\n\u001b[0;32m    449\u001b[0m \n\u001b[0;32m    450\u001b[0m \u001b[38;5;124;03m    :Usage:\u001b[39;00m\n\u001b[1;32m   (...)\u001b[0m\n\u001b[0;32m    453\u001b[0m \u001b[38;5;124;03m            driver.page_source\u001b[39;00m\n\u001b[0;32m    454\u001b[0m \u001b[38;5;124;03m    \"\"\"\u001b[39;00m\n\u001b[1;32m--> 455\u001b[0m     \u001b[38;5;28;01mreturn\u001b[39;00m \u001b[38;5;28;43mself\u001b[39;49m\u001b[38;5;241;43m.\u001b[39;49m\u001b[43mexecute\u001b[49m\u001b[43m(\u001b[49m\u001b[43mCommand\u001b[49m\u001b[38;5;241;43m.\u001b[39;49m\u001b[43mGET_PAGE_SOURCE\u001b[49m\u001b[43m)\u001b[49m[\u001b[38;5;124m\"\u001b[39m\u001b[38;5;124mvalue\u001b[39m\u001b[38;5;124m\"\u001b[39m]\n",
      "File \u001b[1;32m~\\AppData\\Local\\Packages\\PythonSoftwareFoundation.Python.3.11_qbz5n2kfra8p0\\LocalCache\\local-packages\\Python311\\site-packages\\selenium\\webdriver\\remote\\webdriver.py:354\u001b[0m, in \u001b[0;36mWebDriver.execute\u001b[1;34m(self, driver_command, params)\u001b[0m\n\u001b[0;32m    352\u001b[0m response \u001b[38;5;241m=\u001b[39m \u001b[38;5;28mself\u001b[39m\u001b[38;5;241m.\u001b[39mcommand_executor\u001b[38;5;241m.\u001b[39mexecute(driver_command, params)\n\u001b[0;32m    353\u001b[0m \u001b[38;5;28;01mif\u001b[39;00m response:\n\u001b[1;32m--> 354\u001b[0m     \u001b[38;5;28;43mself\u001b[39;49m\u001b[38;5;241;43m.\u001b[39;49m\u001b[43merror_handler\u001b[49m\u001b[38;5;241;43m.\u001b[39;49m\u001b[43mcheck_response\u001b[49m\u001b[43m(\u001b[49m\u001b[43mresponse\u001b[49m\u001b[43m)\u001b[49m\n\u001b[0;32m    355\u001b[0m     response[\u001b[38;5;124m\"\u001b[39m\u001b[38;5;124mvalue\u001b[39m\u001b[38;5;124m\"\u001b[39m] \u001b[38;5;241m=\u001b[39m \u001b[38;5;28mself\u001b[39m\u001b[38;5;241m.\u001b[39m_unwrap_value(response\u001b[38;5;241m.\u001b[39mget(\u001b[38;5;124m\"\u001b[39m\u001b[38;5;124mvalue\u001b[39m\u001b[38;5;124m\"\u001b[39m, \u001b[38;5;28;01mNone\u001b[39;00m))\n\u001b[0;32m    356\u001b[0m     \u001b[38;5;28;01mreturn\u001b[39;00m response\n",
      "File \u001b[1;32m~\\AppData\\Local\\Packages\\PythonSoftwareFoundation.Python.3.11_qbz5n2kfra8p0\\LocalCache\\local-packages\\Python311\\site-packages\\selenium\\webdriver\\remote\\errorhandler.py:229\u001b[0m, in \u001b[0;36mErrorHandler.check_response\u001b[1;34m(self, response)\u001b[0m\n\u001b[0;32m    227\u001b[0m         alert_text \u001b[38;5;241m=\u001b[39m value[\u001b[38;5;124m\"\u001b[39m\u001b[38;5;124malert\u001b[39m\u001b[38;5;124m\"\u001b[39m]\u001b[38;5;241m.\u001b[39mget(\u001b[38;5;124m\"\u001b[39m\u001b[38;5;124mtext\u001b[39m\u001b[38;5;124m\"\u001b[39m)\n\u001b[0;32m    228\u001b[0m     \u001b[38;5;28;01mraise\u001b[39;00m exception_class(message, screen, stacktrace, alert_text)  \u001b[38;5;66;03m# type: ignore[call-arg]  # mypy is not smart enough here\u001b[39;00m\n\u001b[1;32m--> 229\u001b[0m \u001b[38;5;28;01mraise\u001b[39;00m exception_class(message, screen, stacktrace)\n",
      "\u001b[1;31mNoSuchWindowException\u001b[0m: Message: no such window: target window already closed\nfrom unknown error: web view not found\n  (Session info: chrome=127.0.6533.119)\nStacktrace:\n\tGetHandleVerifier [0x00007FF7710A9642+30946]\n\t(No symbol) [0x00007FF77105E3D9]\n\t(No symbol) [0x00007FF770F56FDA]\n\t(No symbol) [0x00007FF770F2CB85]\n\t(No symbol) [0x00007FF770FD37A7]\n\t(No symbol) [0x00007FF770FEA771]\n\t(No symbol) [0x00007FF770FCC813]\n\t(No symbol) [0x00007FF770F9A6E5]\n\t(No symbol) [0x00007FF770F9B021]\n\tGetHandleVerifier [0x00007FF7711DF84D+1301229]\n\tGetHandleVerifier [0x00007FF7711EBDC7+1351783]\n\tGetHandleVerifier [0x00007FF7711E2A13+1313971]\n\tGetHandleVerifier [0x00007FF7710DDD16+245686]\n\t(No symbol) [0x00007FF77106759F]\n\t(No symbol) [0x00007FF771063814]\n\t(No symbol) [0x00007FF7710639A2]\n\t(No symbol) [0x00007FF77105A3FF]\n\tBaseThreadInitThunk [0x00007FFBFEE1257D+29]\n\tRtlUserThreadStart [0x00007FFBFFD6AF28+40]\n"
     ]
    }
   ],
   "source": [
    "\n"
   ]
  },
  {
   "cell_type": "code",
   "execution_count": null,
   "metadata": {},
   "outputs": [],
   "source": []
  }
 ],
 "metadata": {
  "kernelspec": {
   "display_name": "Python 3",
   "language": "python",
   "name": "python3"
  },
  "language_info": {
   "codemirror_mode": {
    "name": "ipython",
    "version": 3
   },
   "file_extension": ".py",
   "mimetype": "text/x-python",
   "name": "python",
   "nbconvert_exporter": "python",
   "pygments_lexer": "ipython3",
   "version": "3.11.9"
  }
 },
 "nbformat": 4,
 "nbformat_minor": 2
}
