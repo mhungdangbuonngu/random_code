{
 "cells": [
  {
   "cell_type": "code",
   "execution_count": null,
   "metadata": {},
   "outputs": [],
   "source": [
    "hotel_list=[]"
   ]
  },
  {
   "cell_type": "code",
   "execution_count": null,
   "metadata": {},
   "outputs": [],
   "source": [
    "def get_hotel_id(name):\n",
    "    query=\"\"\"\n",
    "        SELECT hotel_id\n",
    "        FROM hotel\n",
    "        WHERE name ILIKE %s;\"\"\"\n",
    "    conn = psycopg2.connect(postgres_url)\n",
    "    cur = conn.cursor()\n",
    "    cur.execute(\"\"\"SET search_path TO travel_database, public;\"\"\")\n",
    "    cur.execute(query,(name,))\n",
    "    hotel_id=cur.fetchone()\n",
    "    cur.close()\n",
    "    return hotel_id"
   ]
  },
  {
   "cell_type": "code",
   "execution_count": null,
   "metadata": {},
   "outputs": [],
   "source": [
    "def insert_db_hotel_price(price,id):\n",
    "    print(f\"insert amenities into db\")\n",
    "    conn = psycopg2.connect(postgres_url)\n",
    "    cur = conn.cursor()\n",
    "    cur.execute(\"\"\"SET search_path TO travel_database, public;\"\"\")\n",
    "    query=\"\"\"\n",
    "    UPDATE Hotelprice SET price = %s\n",
    "    WHERE hotel_id = %s;\"\"\"\n",
    "    cur.execute(query, (price,id))\n",
    "    conn.commit()\n",
    "    cur.close()\n",
    "    conn.close()"
   ]
  },
  {
   "cell_type": "code",
   "execution_count": null,
   "metadata": {},
   "outputs": [],
   "source": [
    "def retake_price(soup):\n",
    "    #lay tung o \n",
    "    columns=soup.findAll('div',class_='')\n",
    "    #lay tung ten va gia \n",
    "    for column in columns:\n",
    "        name=column.find('div',class_='')\n",
    "        name=name.text.strip()\n",
    "        if name in hotel_list:\n",
    "            price=columns.find('div',class_='')\n",
    "            price_text = price.get_text().strip()\n",
    "        #convert to INT\n",
    "            price_int=int(price_text.replace('VND','').replace('.',''))\n",
    "            id=get_hotel_id(name)\n",
    "            insert_db_hotel_price(price_int,id)\n",
    "    pass\n"
   ]
  }
 ],
 "metadata": {
  "kernelspec": {
   "display_name": "Python 3",
   "language": "python",
   "name": "python3"
  },
  "language_info": {
   "name": "python",
   "version": "3.11.9"
  }
 },
 "nbformat": 4,
 "nbformat_minor": 2
}
