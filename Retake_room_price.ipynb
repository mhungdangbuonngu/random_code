{
 "cells": [
  {
   "cell_type": "code",
   "execution_count": null,
   "metadata": {},
   "outputs": [],
   "source": [
    "from selenium import webdriver\n",
    "from selenium.webdriver.chrome.options import Options\n",
    "import psycopg2\n",
    "from bs4 import BeautifulSoup as bp\n",
    "import time"
   ]
  },
  {
   "cell_type": "code",
   "execution_count": null,
   "metadata": {},
   "outputs": [],
   "source": [
    "import getpass\n",
    "import os\n",
    "\n",
    "postgres_url = getpass.getpass(\"Enter your postgresql url: \")"
   ]
  },
  {
   "cell_type": "code",
   "execution_count": null,
   "metadata": {},
   "outputs": [],
   "source": [
    "USER_AGENT = 'Mozilla/5.0 (Windows NT 10.0; Win64; x64) AppleWebKit/537.36 (KHTML, like Gecko) Chrome/127.0.0.0 Safari/537.36'\n"
   ]
  },
  {
   "cell_type": "code",
   "execution_count": null,
   "metadata": {},
   "outputs": [],
   "source": [
    "options=Options()\n",
    "options.add_argument(f\"user-agent={USER_AGENT}\")\n",
    "options.add_argument(f\"accept-language=vi-VN,vi;q=0.9\")\n",
    "driver=webdriver.Chrome(options=options)"
   ]
  },
  {
   "cell_type": "code",
   "execution_count": null,
   "metadata": {},
   "outputs": [],
   "source": [
    "def get_hotel_id(name):\n",
    "    query=\"\"\"\n",
    "        SELECT hotel_id\n",
    "        FROM hotel\n",
    "        WHERE name ILIKE %s;\"\"\"\n",
    "    conn = psycopg2.connect(postgres_url)\n",
    "    cur = conn.cursor()\n",
    "    cur.execute(\"\"\"SET search_path TO travel_database, public;\"\"\")\n",
    "    cur.execute(query,(name,))\n",
    "    row=cur.fetchone()\n",
    "    hotel_id = row[0]\n",
    "    cur.close()\n",
    "    return hotel_id"
   ]
  },
  {
   "cell_type": "code",
   "execution_count": null,
   "metadata": {},
   "outputs": [],
   "source": [
    "def insert_db_hotel_price(price,id):\n",
    "    print(f\"insert price into db of room {id}\")\n",
    "    conn = psycopg2.connect(postgres_url)\n",
    "    cur = conn.cursor()\n",
    "    cur.execute(\"\"\"SET search_path TO travel_database, public;\"\"\")\n",
    "    query=\"\"\"\n",
    "    UPDATE Hotelprice SET price = %s\n",
    "    WHERE hotel_id = %s;\"\"\"\n",
    "    cur.execute(query, (price,id))\n",
    "    conn.commit()\n",
    "    cur.close()\n",
    "    conn.close()"
   ]
  },
  {
   "cell_type": "code",
   "execution_count": null,
   "metadata": {},
   "outputs": [],
   "source": [
    "def get_list_id():\n",
    "    print(f'Taking list of hotel IDs that do not have a price...')\n",
    "    try:\n",
    "        conn = psycopg2.connect(postgres_url)\n",
    "        cur = conn.cursor()\n",
    "        cur.execute(\"SET search_path TO travel_database, public;\")\n",
    "        \n",
    "        query = \"\"\"\n",
    "        SELECT hotel_id FROM hotelprice WHERE price IS NULL;\n",
    "        \"\"\"\n",
    "        cur.execute(query)\n",
    "        hotel_ids = [row[0] for row in cur.fetchall()]\n",
    "        print(f\"Found {len(hotel_ids)} places\")\n",
    "        \n",
    "    except Exception as e:\n",
    "        print(f\"Error: {e}\")\n",
    "    \n",
    "    finally:\n",
    "        cur.close()\n",
    "        conn.close()\n",
    "    \n",
    "    return hotel_ids"
   ]
  },
  {
   "cell_type": "code",
   "execution_count": null,
   "metadata": {},
   "outputs": [],
   "source": [
    "def retake_price(soup,id_list):\n",
    "    #lay tung o \n",
    "    columns=soup.findAll('div',class_='css-1dbjc4n r-14lw9ot r-awg2lu r-1dzdj1l r-rs99b7 r-18u37iz r-1jbys1g r-1udh08x')\n",
    "    #lay tung ten va gia \n",
    "    for column in enumerate(columns):\n",
    "        name=column.find('h3',class_='css-4rbku5 css-901oao css-cens5h r-a5wbuh r-ubezar r-1kfrs79 r-rjixqe r-fdjqy7')\n",
    "        if name:\n",
    "            name=name.text.strip()\n",
    "            id=get_hotel_id(name)\n",
    "            if id in id_list:\n",
    "                price=columns.find('div',class_='')\n",
    "                price_text = price.get_text().strip()\n",
    "        #convert to INT\n",
    "                price_int=int(price_text.replace('VND','').replace('.',''))\n",
    "                insert_db_hotel_price(price_int,id)\n",
    "        else:\n",
    "            print(f'cannot find name for rooms in url')\n",
    "            break\n",
    "    \n"
   ]
  },
  {
   "cell_type": "code",
   "execution_count": null,
   "metadata": {},
   "outputs": [],
   "source": [
    "if __name__ == \"__main__\":\n",
    "    list_id=get_list_id()\n",
    "    for x in range(1,138):\n",
    "        driver.get(f'https://www.traveloka.com/vi-vn/hotel/vietnam/region/hanoi-10009843/{x}')\n",
    "        time.sleep(10)\n",
    "        soup=bp(driver.page_source,'lxml')\n",
    "        retake_price(soup,list_id)\n",
    "        \n",
    "    "
   ]
  }
 ],
 "metadata": {
  "kernelspec": {
   "display_name": "Python 3",
   "language": "python",
   "name": "python3"
  },
  "language_info": {
   "name": "python",
   "version": "3.11.9"
  }
 },
 "nbformat": 4,
 "nbformat_minor": 2
}
